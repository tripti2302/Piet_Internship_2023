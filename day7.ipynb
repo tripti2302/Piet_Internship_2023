{
 "cells": [
  {
   "cell_type": "code",
   "execution_count": 1,
   "metadata": {},
   "outputs": [
    {
     "name": "stdout",
     "output_type": "stream",
     "text": [
      "Defaulting to user installation because normal site-packages is not writeable\n",
      "Requirement already satisfied: numpy in /Users/sanampeeyush/Library/Python/3.9/lib/python/site-packages (1.25.1)\n"
     ]
    }
   ],
   "source": [
    "!python3 -m pip install numpy"
   ]
  },
  {
   "cell_type": "code",
   "execution_count": 3,
   "metadata": {},
   "outputs": [],
   "source": [
    "import numpy as np\n",
    "\n",
    "# Numpy Datatype\n",
    "### Numpy.nd.array"
   ]
  },
  {
   "cell_type": "code",
   "execution_count": 14,
   "metadata": {},
   "outputs": [],
   "source": [
    "def show_array(arr):\n",
    "    print('Array:', arr, sep='\\n')\n",
    "    print('Type:', type(arr))\n",
    "    print('Shape:', arr.shape)\n",
    "    print('Size:', arr.size)\n",
    "    print('DType:', arr.dtype)\n",
    "    print('Length:', len(arr))\n",
    "    print('Dimension:', arr.ndim)"
   ]
  },
  {
   "cell_type": "code",
   "execution_count": 8,
   "metadata": {},
   "outputs": [
    {
     "name": "stdout",
     "output_type": "stream",
     "text": [
      "[ 3  8  2 67 45]\n",
      "<class 'numpy.ndarray'>\n",
      "(5,)\n",
      "5\n",
      "int64\n",
      "5\n"
     ]
    }
   ],
   "source": [
    "a = np.array([3,8,2,67,45])\n",
    "print(a)\n",
    "print(type(a))\n",
    "print(a.shape)\n",
    "print(a.size)\n",
    "print(a.dtype)\n",
    "print(len(a))"
   ]
  },
  {
   "cell_type": "code",
   "execution_count": 15,
   "metadata": {},
   "outputs": [
    {
     "name": "stdout",
     "output_type": "stream",
     "text": [
      "Array:\n",
      "[[10 11 13 14]\n",
      " [45 22  9  2]\n",
      " [ 6  5  1  8]]\n",
      "Type: <class 'numpy.ndarray'>\n",
      "Shape: (3, 4)\n",
      "Size: 12\n",
      "DType: int64\n",
      "Length: 3\n",
      "Dimension: 2\n"
     ]
    }
   ],
   "source": [
    "# 10  11  13  14\n",
    "# 45  22   9   2\n",
    "# 6    5   1   8\n",
    "b = np.array([[10,11,13,14], [45,22,9,2], [6,5,1,8]])\n",
    "show_array(b)\n"
   ]
  },
  {
   "cell_type": "code",
   "execution_count": 16,
   "metadata": {},
   "outputs": [
    {
     "name": "stdout",
     "output_type": "stream",
     "text": [
      "Array:\n",
      "[[[ 10 100]\n",
      "  [ 11 110]\n",
      "  [ 13 130]\n",
      "  [ 14 140]]\n",
      "\n",
      " [[ 45 145]\n",
      "  [ 22 122]\n",
      "  [  9  19]\n",
      "  [  2  12]]\n",
      "\n",
      " [[  6  16]\n",
      "  [  5  15]\n",
      "  [  1  11]\n",
      "  [  8  18]]]\n",
      "Type: <class 'numpy.ndarray'>\n",
      "Shape: (3, 4, 2)\n",
      "Size: 24\n",
      "DType: int64\n",
      "Length: 3\n",
      "Dimension: 3\n"
     ]
    }
   ],
   "source": [
    "                # 100  110  130  140\n",
    "                # 145  122   19   12\n",
    "                # 16    15   11   18\n",
    "# 10  11  13  14\n",
    "# 45  22   9   2\n",
    "# 6    5   1   8\n",
    "c = np.array([[[10,100],[11,110],[13,130],[14,140]], \n",
    "              [[45,145],[22,122],[9,19],[2,12]],\n",
    "              [[6,16],[5,15],[1,11],[8,18]]])\n",
    "show_array(c)"
   ]
  },
  {
   "cell_type": "code",
   "execution_count": null,
   "metadata": {},
   "outputs": [],
   "source": [
    "# Array Operations\n",
    "### 1. Item Accessing: Subscripting, Slicing\n",
    "### 2. Item Assignment\n",
    "### 3. Item Insertion\n",
    "### 4. Item Deletion\n",
    "### 5. Arithmetic"
   ]
  },
  {
   "cell_type": "code",
   "execution_count": 17,
   "metadata": {},
   "outputs": [
    {
     "data": {
      "text/plain": [
       "array([[10, 11, 13, 14],\n",
       "       [45, 22,  9,  2],\n",
       "       [ 6,  5,  1,  8]])"
      ]
     },
     "execution_count": 17,
     "metadata": {},
     "output_type": "execute_result"
    }
   ],
   "source": [
    "b"
   ]
  },
  {
   "cell_type": "code",
   "execution_count": 26,
   "metadata": {},
   "outputs": [
    {
     "data": {
      "text/plain": [
       "array([[13],\n",
       "       [ 9],\n",
       "       [ 1]])"
      ]
     },
     "execution_count": 26,
     "metadata": {},
     "output_type": "execute_result"
    }
   ],
   "source": [
    "[[10,11,13,14], [45,22,9,2], [6,5,1,8]]\n",
    "# b[0][0]\n",
    "# b[1][1:]\n",
    "# subscripting [1st, 2nd, 3rd , ....., nth dim]\n",
    "# subscripting [1st:1st end: stepsize, 2nd, 3rd , ....., nth dim]\n",
    "b[0,0]\n",
    "b[1, -3:]\n",
    "b[:, -2]\n",
    "b[:, -2:-1]"
   ]
  },
  {
   "cell_type": "code",
   "execution_count": 23,
   "metadata": {},
   "outputs": [
    {
     "data": {
      "text/plain": [
       "(3,)"
      ]
     },
     "execution_count": 23,
     "metadata": {},
     "output_type": "execute_result"
    }
   ],
   "source": [
    "b[:, -2].shape"
   ]
  },
  {
   "cell_type": "code",
   "execution_count": 27,
   "metadata": {},
   "outputs": [
    {
     "data": {
      "text/plain": [
       "7"
      ]
     },
     "execution_count": 27,
     "metadata": {},
     "output_type": "execute_result"
    }
   ],
   "source": [
    "# k = [3,5,7,3,7,89,3]\n",
    "# k[2:3]\n",
    "# k[2]"
   ]
  },
  {
   "cell_type": "code",
   "execution_count": 28,
   "metadata": {},
   "outputs": [
    {
     "name": "stdout",
     "output_type": "stream",
     "text": [
      "[[6 5 1 8]]\n",
      "[[[ 10 100]\n",
      "  [ 11 110]]]\n",
      "[[[11]]\n",
      "\n",
      " [[22]]\n",
      "\n",
      " [[ 5]]]\n",
      "[[[2]]\n",
      "\n",
      " [[8]]]\n",
      "[[[ 13 130]\n",
      "  [ 14 140]]\n",
      "\n",
      " [[  9  19]\n",
      "  [  2  12]]]\n"
     ]
    }
   ],
   "source": [
    "print(b[-1:,:])\n",
    "print(c[:1, :2, :])\n",
    "print(c[:, 1:2, :1])\n",
    "print(c[-2:, -1:, :1])\n",
    "print(c[:2, -2:, :])"
   ]
  },
  {
   "cell_type": "code",
   "execution_count": 34,
   "metadata": {},
   "outputs": [
    {
     "data": {
      "text/plain": [
       "array([[10, 11, 13, 14],\n",
       "       [45, 22, 90,  2],\n",
       "       [ 6,  5,  1,  8]])"
      ]
     },
     "execution_count": 34,
     "metadata": {},
     "output_type": "execute_result"
    }
   ],
   "source": [
    "# Item Assignment\n",
    "b[1,2] = 90\n",
    "b"
   ]
  },
  {
   "cell_type": "code",
   "execution_count": 39,
   "metadata": {},
   "outputs": [
    {
     "data": {
      "text/plain": [
       "array([ 3,  8,  2, 67, 45, 80, 80])"
      ]
     },
     "execution_count": 39,
     "metadata": {},
     "output_type": "execute_result"
    }
   ],
   "source": [
    "# Item Insertion\n",
    "a = np.append(a, 80)\n",
    "a"
   ]
  },
  {
   "cell_type": "code",
   "execution_count": 43,
   "metadata": {},
   "outputs": [
    {
     "data": {
      "text/plain": [
       "array([[  10,   11,   13,   14],\n",
       "       [  45,   22,   90,    2],\n",
       "       [   6,    5,    1,    8],\n",
       "       [   9,   90,  900, 9000]])"
      ]
     },
     "execution_count": 43,
     "metadata": {},
     "output_type": "execute_result"
    }
   ],
   "source": [
    "np.append(b, [[9,90,900,9000]], axis = 0)  # axis = 0-> Row, 1->Col"
   ]
  },
  {
   "cell_type": "code",
   "execution_count": 46,
   "metadata": {},
   "outputs": [
    {
     "data": {
      "text/plain": [
       "array([[ 10,  11,  13,  14,   9],\n",
       "       [ 45,  22,  90,   2,  90],\n",
       "       [  6,   5,   1,   8, 900]])"
      ]
     },
     "execution_count": 46,
     "metadata": {},
     "output_type": "execute_result"
    }
   ],
   "source": [
    "np.append(b, [[9],[90],[900]], axis = 1)"
   ]
  },
  {
   "cell_type": "code",
   "execution_count": 49,
   "metadata": {},
   "outputs": [],
   "source": [
    "# Item Deletion\n",
    "# del a[-1]  # This won't work\n",
    "b1 = b.copy()"
   ]
  },
  {
   "cell_type": "code",
   "execution_count": 56,
   "metadata": {},
   "outputs": [
    {
     "data": {
      "text/plain": [
       "array([[10, 11, 13, 14],\n",
       "       [45, 22, 90,  2],\n",
       "       [ 6,  5,  1,  8]])"
      ]
     },
     "execution_count": 56,
     "metadata": {},
     "output_type": "execute_result"
    }
   ],
   "source": [
    "b1"
   ]
  },
  {
   "cell_type": "code",
   "execution_count": 55,
   "metadata": {},
   "outputs": [
    {
     "data": {
      "text/plain": [
       "array([[45, 22, 90,  2],\n",
       "       [ 6,  5,  1,  8]])"
      ]
     },
     "execution_count": 55,
     "metadata": {},
     "output_type": "execute_result"
    }
   ],
   "source": [
    "np.delete(b1, 0, axis=0)"
   ]
  },
  {
   "cell_type": "code",
   "execution_count": 57,
   "metadata": {},
   "outputs": [],
   "source": [
    "# Arithmetic Operations"
   ]
  },
  {
   "cell_type": "code",
   "execution_count": 61,
   "metadata": {},
   "outputs": [
    {
     "data": {
      "text/plain": [
       "array([[-10,  -9,  -7,  -6],\n",
       "       [ 25,   2,  70, -18],\n",
       "       [-14, -15, -19, -12]])"
      ]
     },
     "execution_count": 61,
     "metadata": {},
     "output_type": "execute_result"
    }
   ],
   "source": [
    "b1 - 20"
   ]
  },
  {
   "cell_type": "code",
   "execution_count": 62,
   "metadata": {},
   "outputs": [
    {
     "data": {
      "text/plain": [
       "array([[ 30,  31,  33,  34],\n",
       "       [ 65,  42, 110,  22],\n",
       "       [ 26,  25,  21,  28]])"
      ]
     },
     "execution_count": 62,
     "metadata": {},
     "output_type": "execute_result"
    }
   ],
   "source": [
    "b1 + 20"
   ]
  },
  {
   "cell_type": "code",
   "execution_count": 66,
   "metadata": {},
   "outputs": [],
   "source": [
    "# Array Manipulation\n",
    "#####################\n",
    "# arr.reshape(....)\n",
    "# arr.astype(...)\n",
    "\n",
    "# More functions to create array\n",
    "##################################\n",
    "## np.array()\n",
    "## np.arange()  -> array version of range func, also allows float\n",
    "## np.linspace() -> start, end, no. of items\n",
    "## np.ones() -> generate all values as '1'\n",
    "## np.zeros() -> generate all values as '0'\n",
    "## np.random.random()\n",
    "## np.random.randint()"
   ]
  },
  {
   "cell_type": "code",
   "execution_count": 65,
   "metadata": {},
   "outputs": [
    {
     "data": {
      "text/plain": [
       "array([[[[10]],\n",
       "\n",
       "        [[11]],\n",
       "\n",
       "        [[13]],\n",
       "\n",
       "        [[14]],\n",
       "\n",
       "        [[45]],\n",
       "\n",
       "        [[22]]],\n",
       "\n",
       "\n",
       "       [[[90]],\n",
       "\n",
       "        [[ 2]],\n",
       "\n",
       "        [[ 6]],\n",
       "\n",
       "        [[ 5]],\n",
       "\n",
       "        [[ 1]],\n",
       "\n",
       "        [[ 8]]]])"
      ]
     },
     "execution_count": 65,
     "metadata": {},
     "output_type": "execute_result"
    }
   ],
   "source": [
    "b1.reshape(2,6,1,1)"
   ]
  },
  {
   "cell_type": "code",
   "execution_count": 68,
   "metadata": {},
   "outputs": [
    {
     "data": {
      "text/plain": [
       "dtype('int64')"
      ]
     },
     "execution_count": 68,
     "metadata": {},
     "output_type": "execute_result"
    }
   ],
   "source": [
    "b.dtype"
   ]
  },
  {
   "cell_type": "code",
   "execution_count": 69,
   "metadata": {},
   "outputs": [
    {
     "data": {
      "text/plain": [
       "array([[10., 11., 13., 14.],\n",
       "       [45., 22., 90.,  2.],\n",
       "       [ 6.,  5.,  1.,  8.]])"
      ]
     },
     "execution_count": 69,
     "metadata": {},
     "output_type": "execute_result"
    }
   ],
   "source": [
    "b.astype(float)"
   ]
  },
  {
   "cell_type": "code",
   "execution_count": 70,
   "metadata": {},
   "outputs": [
    {
     "data": {
      "text/plain": [
       "array([[10, 11, 13, 14],\n",
       "       [45, 22, 90,  2],\n",
       "       [ 6,  5,  1,  8]], dtype=uint16)"
      ]
     },
     "execution_count": 70,
     "metadata": {},
     "output_type": "execute_result"
    }
   ],
   "source": [
    "b.astype('uint16')"
   ]
  },
  {
   "cell_type": "code",
   "execution_count": 73,
   "metadata": {},
   "outputs": [
    {
     "data": {
      "text/plain": [
       "array([[5, 5, 5, 5],\n",
       "       [5, 5, 5, 5],\n",
       "       [5, 5, 5, 5]])"
      ]
     },
     "execution_count": 73,
     "metadata": {},
     "output_type": "execute_result"
    }
   ],
   "source": [
    "np.ones((3,4), dtype='int') * 5"
   ]
  },
  {
   "cell_type": "code",
   "execution_count": null,
   "metadata": {},
   "outputs": [],
   "source": []
  }
 ],
 "metadata": {
  "kernelspec": {
   "display_name": "Python 3",
   "language": "python",
   "name": "python3"
  },
  "language_info": {
   "codemirror_mode": {
    "name": "ipython",
    "version": 3
   },
   "file_extension": ".py",
   "mimetype": "text/x-python",
   "name": "python",
   "nbconvert_exporter": "python",
   "pygments_lexer": "ipython3",
   "version": "3.9.6"
  },
  "orig_nbformat": 4
 },
 "nbformat": 4,
 "nbformat_minor": 2
}
