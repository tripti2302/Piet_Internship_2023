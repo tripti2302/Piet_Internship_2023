{
 "cells": [
  {
   "cell_type": "code",
   "execution_count": 14,
   "metadata": {},
   "outputs": [
    {
     "ename": "ValueError",
     "evalue": "dictionary update sequence element #0 has length 1; 2 is required",
     "output_type": "error",
     "traceback": [
      "\u001b[1;31m---------------------------------------------------------------------------\u001b[0m",
      "\u001b[1;31mValueError\u001b[0m                                Traceback (most recent call last)",
      "Cell \u001b[1;32mIn[14], line 25\u001b[0m\n\u001b[0;32m     22\u001b[0m \u001b[39mdef\u001b[39;00m \u001b[39mclear_data\u001b[39m():\n\u001b[0;32m     23\u001b[0m     \u001b[39mprint\u001b[39m(\u001b[39m'\u001b[39m\u001b[39mclear all previous data\u001b[39m\u001b[39m'\u001b[39m)\n\u001b[1;32m---> 25\u001b[0m ttk\u001b[39m.\u001b[39;49mButton(app,text\u001b[39m=\u001b[39;49m\u001b[39m'\u001b[39;49m\u001b[39mregister\u001b[39;49m\u001b[39m'\u001b[39;49m,command\u001b[39m=\u001b[39;49mregister,font\u001b[39m=\u001b[39;49mfont_)\u001b[39m.\u001b[39;49mplace(cnf\u001b[39m=\u001b[39;49m[\u001b[39m'\u001b[39;49m\u001b[39m10\u001b[39;49m\u001b[39m'\u001b[39;49m,\u001b[39m15\u001b[39;49m])\n\u001b[0;32m     26\u001b[0m ttk\u001b[39m.\u001b[39mButton(app,text\u001b[39m=\u001b[39m\u001b[39m'\u001b[39m\u001b[39mAttendance\u001b[39m\u001b[39m'\u001b[39m,command\u001b[39m=\u001b[39mattendance,font\u001b[39m=\u001b[39mfont_)\u001b[39m.\u001b[39mplace(cnf\u001b[39m=\u001b[39m[\u001b[39m'\u001b[39m\u001b[39m10\u001b[39m\u001b[39m'\u001b[39m,\u001b[39m15\u001b[39m])\n\u001b[0;32m     27\u001b[0m ttk\u001b[39m.\u001b[39mButton(app,text\u001b[39m=\u001b[39m\u001b[39m'\u001b[39m\u001b[39mclear_data\u001b[39m\u001b[39m'\u001b[39m,command\u001b[39m=\u001b[39mclear_data,font\u001b[39m=\u001b[39mfont_)\u001b[39m.\u001b[39mplace(cnf\u001b[39m=\u001b[39m[\u001b[39m'\u001b[39m\u001b[39m10\u001b[39m\u001b[39m'\u001b[39m,\u001b[39m15\u001b[39m])\n",
      "File \u001b[1;32mc:\\Users\\91823\\AppData\\Local\\Programs\\Python\\Python310\\lib\\tkinter\\__init__.py:2479\u001b[0m, in \u001b[0;36mPlace.place_configure\u001b[1;34m(self, cnf, **kw)\u001b[0m\n\u001b[0;32m   2455\u001b[0m \u001b[39mdef\u001b[39;00m \u001b[39mplace_configure\u001b[39m(\u001b[39mself\u001b[39m, cnf\u001b[39m=\u001b[39m{}, \u001b[39m*\u001b[39m\u001b[39m*\u001b[39mkw):\n\u001b[0;32m   2456\u001b[0m \u001b[39m    \u001b[39m\u001b[39m\"\"\"Place a widget in the parent widget. Use as options:\u001b[39;00m\n\u001b[0;32m   2457\u001b[0m \u001b[39m    in=master - master relative to which the widget is placed\u001b[39;00m\n\u001b[0;32m   2458\u001b[0m \u001b[39m    in_=master - see 'in' option description\u001b[39;00m\n\u001b[1;32m   (...)\u001b[0m\n\u001b[0;32m   2475\u001b[0m \u001b[39m                                       master widget into account\u001b[39;00m\n\u001b[0;32m   2476\u001b[0m \u001b[39m    \"\"\"\u001b[39;00m\n\u001b[0;32m   2477\u001b[0m     \u001b[39mself\u001b[39m\u001b[39m.\u001b[39mtk\u001b[39m.\u001b[39mcall(\n\u001b[0;32m   2478\u001b[0m           (\u001b[39m'\u001b[39m\u001b[39mplace\u001b[39m\u001b[39m'\u001b[39m, \u001b[39m'\u001b[39m\u001b[39mconfigure\u001b[39m\u001b[39m'\u001b[39m, \u001b[39mself\u001b[39m\u001b[39m.\u001b[39m_w)\n\u001b[1;32m-> 2479\u001b[0m           \u001b[39m+\u001b[39m \u001b[39mself\u001b[39;49m\u001b[39m.\u001b[39;49m_options(cnf, kw))\n",
      "File \u001b[1;32mc:\\Users\\91823\\AppData\\Local\\Programs\\Python\\Python310\\lib\\tkinter\\__init__.py:1502\u001b[0m, in \u001b[0;36mMisc._options\u001b[1;34m(self, cnf, kw)\u001b[0m\n\u001b[0;32m   1500\u001b[0m     cnf \u001b[39m=\u001b[39m _cnfmerge((cnf, kw))\n\u001b[0;32m   1501\u001b[0m \u001b[39melse\u001b[39;00m:\n\u001b[1;32m-> 1502\u001b[0m     cnf \u001b[39m=\u001b[39m _cnfmerge(cnf)\n\u001b[0;32m   1503\u001b[0m res \u001b[39m=\u001b[39m ()\n\u001b[0;32m   1504\u001b[0m \u001b[39mfor\u001b[39;00m k, v \u001b[39min\u001b[39;00m cnf\u001b[39m.\u001b[39mitems():\n",
      "File \u001b[1;32mc:\\Users\\91823\\AppData\\Local\\Programs\\Python\\Python310\\lib\\tkinter\\__init__.py:111\u001b[0m, in \u001b[0;36m_cnfmerge\u001b[1;34m(cnfs)\u001b[0m\n\u001b[0;32m    109\u001b[0m \u001b[39mfor\u001b[39;00m c \u001b[39min\u001b[39;00m _flatten(cnfs):\n\u001b[0;32m    110\u001b[0m     \u001b[39mtry\u001b[39;00m:\n\u001b[1;32m--> 111\u001b[0m         cnf\u001b[39m.\u001b[39;49mupdate(c)\n\u001b[0;32m    112\u001b[0m     \u001b[39mexcept\u001b[39;00m (\u001b[39mAttributeError\u001b[39;00m, \u001b[39mTypeError\u001b[39;00m) \u001b[39mas\u001b[39;00m msg:\n\u001b[0;32m    113\u001b[0m         \u001b[39mprint\u001b[39m(\u001b[39m\"\u001b[39m\u001b[39m_cnfmerge: fallback due to:\u001b[39m\u001b[39m\"\u001b[39m, msg)\n",
      "\u001b[1;31mValueError\u001b[0m: dictionary update sequence element #0 has length 1; 2 is required"
     ]
    }
   ],
   "source": [
    "import tkinter as ttk\n",
    "from tkinter import font\n",
    "app=ttk.Tk()\n",
    "app.title(\"Attendance system\")\n",
    "app.geometry('800x800')\n",
    "font_=font.Font(size=14)\n",
    "\n",
    "\n",
    "\n",
    "ttk.Label(\n",
    "    app,\n",
    "    text='face recognition based attendance system',\n",
    "    font=font_\n",
    ").place()\n",
    "\n",
    "def register():\n",
    "    print('register')\n",
    "    \n",
    "def attendance():\n",
    "    print('Attendance')\n",
    "   \n",
    "def clear_data():\n",
    "    print('clear all previous data')\n",
    "    \n",
    "ttk.Button(app,text='register',command=register,font=font_).place(cnf=['10',15])\n",
    "ttk.Button(app,text='Attendance',command=attendance,font=font_).place(cnf=['10',15])\n",
    "ttk.Button(app,text='clear_data',command=clear_data,font=font_).place(cnf=['10',15])\n",
    "\n",
    "\n",
    "app.mainloop()\n",
    "            "
   ]
  }
 ],
 "metadata": {
  "kernelspec": {
   "display_name": "Python 3",
   "language": "python",
   "name": "python3"
  },
  "language_info": {
   "codemirror_mode": {
    "name": "ipython",
    "version": 3
   },
   "file_extension": ".py",
   "mimetype": "text/x-python",
   "name": "python",
   "nbconvert_exporter": "python",
   "pygments_lexer": "ipython3",
   "version": "3.10.11"
  },
  "orig_nbformat": 4
 },
 "nbformat": 4,
 "nbformat_minor": 2
}
