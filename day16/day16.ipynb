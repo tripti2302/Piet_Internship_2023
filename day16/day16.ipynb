{
 "cells": [
  {
   "cell_type": "code",
   "execution_count": 1,
   "metadata": {},
   "outputs": [],
   "source": [
    "#hugging face"
   ]
  },
  {
   "cell_type": "code",
   "execution_count": 2,
   "metadata": {},
   "outputs": [],
   "source": [
    "import speech_recognition\n",
    "import nltk\n",
    "import pyttsx3"
   ]
  },
  {
   "cell_type": "code",
   "execution_count": 1,
   "metadata": {},
   "outputs": [],
   "source": [
    "import cv2\n",
    "hog=cv2.HOGDescriptor()\n",
    "hog.setSVMDetector(cv2.HOGDescriptor_getDefaultPeopleDetector())\n",
    "vid=cv2.VideoCapture(0)\n",
    "while True:\n",
    "    ack,img=vid.read()\n",
    "    if ack:\n",
    "        people,weights=hog.detectMultiScale(\n",
    "            cv2.cvtColor(img,cv2.COLOR_BGR2GRAY),winStride=(15,15)\n",
    "            )\n",
    "        \n",
    "        for x,y,w,h in people:\n",
    "            cv2.rectangle(\n",
    "                img,pt1=(x,y),pt2=(x+w,y+h),color=(0,0,255),thickness=5\n",
    "            )\n",
    "        cv2.imshow('preview',img)\n",
    "        if cv2.waitKey(delay=1)==ord('q'):\n",
    "             break\n",
    "cv2.destroyAllWindows();cv2.waitKey(1)\n",
    "vid.release()"
   ]
  },
  {
   "cell_type": "code",
   "execution_count": 5,
   "metadata": {},
   "outputs": [],
   "source": [
    "import pyttsx3\n",
    "tts=pyttsx3.init()\n",
    "tts.setProperty('rate',80)"
   ]
  },
  {
   "cell_type": "code",
   "execution_count": 7,
   "metadata": {},
   "outputs": [],
   "source": [
    "tts.say('hello!,i am speaking for you from your computer')\n",
    "tts.runAndWait()"
   ]
  },
  {
   "cell_type": "code",
   "execution_count": 10,
   "metadata": {},
   "outputs": [
    {
     "name": "stdout",
     "output_type": "stream",
     "text": [
      "Speak:\n",
      "you said: hello\n"
     ]
    }
   ],
   "source": [
    "import speech_recognition as sr\n",
    "import warnings;warnings.filterwarnings('ignore')\n",
    "rec=sr.Recognizer()\n",
    "with sr.Microphone() as mic:\n",
    "    audio=rec.listen(mic)\n",
    "    print('Speak:')\n",
    "    audio=rec.listen(mic,phrase_time_limit=3,timeout=5)\n",
    "    try:\n",
    "        text=rec.recognize_google(audio)\n",
    "        print('you said:',text)\n",
    "        tts.say(text)\n",
    "        tts.runAndWait()\n",
    "    except Exception as err:\n",
    "        print(err) "
   ]
  },
  {
   "cell_type": "code",
   "execution_count": 14,
   "metadata": {},
   "outputs": [
    {
     "name": "stdout",
     "output_type": "stream",
     "text": [
      "Speak:\n",
      "hey google\n",
      "Speak:\n",
      "\n",
      "Speak:\n",
      "medium\n",
      "Speak:\n",
      "search iphone\n",
      "Speak:\n",
      "\n",
      "Speak:\n",
      "\n",
      "Speak:\n",
      "hey google\n",
      "Speak:\n",
      "search iphone\n",
      "Speak:\n",
      "\n",
      "Speak:\n",
      "sar\n",
      "Speak:\n",
      "\n",
      "Speak:\n"
     ]
    },
    {
     "ename": "KeyboardInterrupt",
     "evalue": "",
     "output_type": "error",
     "traceback": [
      "\u001b[1;31m---------------------------------------------------------------------------\u001b[0m",
      "\u001b[1;31mKeyboardInterrupt\u001b[0m                         Traceback (most recent call last)",
      "Cell \u001b[1;32mIn[14], line 9\u001b[0m\n\u001b[0;32m      7\u001b[0m \u001b[39mwith\u001b[39;00m sr\u001b[39m.\u001b[39mMicrophone() \u001b[39mas\u001b[39;00m mic:\n\u001b[0;32m      8\u001b[0m     \u001b[39mprint\u001b[39m(\u001b[39m'\u001b[39m\u001b[39mSpeak:\u001b[39m\u001b[39m'\u001b[39m)\n\u001b[1;32m----> 9\u001b[0m     audio\u001b[39m=\u001b[39mrec\u001b[39m.\u001b[39;49mlisten(mic,phrase_time_limit\u001b[39m=\u001b[39;49m\u001b[39m3\u001b[39;49m,timeout\u001b[39m=\u001b[39;49m\u001b[39m5\u001b[39;49m)\n\u001b[0;32m     10\u001b[0m     \u001b[39mtry\u001b[39;00m:\n\u001b[0;32m     11\u001b[0m         text\u001b[39m=\u001b[39mrec\u001b[39m.\u001b[39mrecognize_google(audio)\u001b[39m.\u001b[39mlower()\n",
      "File \u001b[1;32mc:\\Users\\91823\\AppData\\Local\\Programs\\Python\\Python310\\lib\\site-packages\\speech_recognition\\__init__.py:523\u001b[0m, in \u001b[0;36mRecognizer.listen\u001b[1;34m(self, source, timeout, phrase_time_limit, snowboy_configuration)\u001b[0m\n\u001b[0;32m    520\u001b[0m \u001b[39mif\u001b[39;00m phrase_time_limit \u001b[39mand\u001b[39;00m elapsed_time \u001b[39m-\u001b[39m phrase_start_time \u001b[39m>\u001b[39m phrase_time_limit:\n\u001b[0;32m    521\u001b[0m     \u001b[39mbreak\u001b[39;00m\n\u001b[1;32m--> 523\u001b[0m buffer \u001b[39m=\u001b[39m source\u001b[39m.\u001b[39;49mstream\u001b[39m.\u001b[39;49mread(source\u001b[39m.\u001b[39;49mCHUNK)\n\u001b[0;32m    524\u001b[0m \u001b[39mif\u001b[39;00m \u001b[39mlen\u001b[39m(buffer) \u001b[39m==\u001b[39m \u001b[39m0\u001b[39m: \u001b[39mbreak\u001b[39;00m  \u001b[39m# reached end of the stream\u001b[39;00m\n\u001b[0;32m    525\u001b[0m frames\u001b[39m.\u001b[39mappend(buffer)\n",
      "File \u001b[1;32mc:\\Users\\91823\\AppData\\Local\\Programs\\Python\\Python310\\lib\\site-packages\\speech_recognition\\__init__.py:199\u001b[0m, in \u001b[0;36mMicrophone.MicrophoneStream.read\u001b[1;34m(self, size)\u001b[0m\n\u001b[0;32m    198\u001b[0m \u001b[39mdef\u001b[39;00m \u001b[39mread\u001b[39m(\u001b[39mself\u001b[39m, size):\n\u001b[1;32m--> 199\u001b[0m     \u001b[39mreturn\u001b[39;00m \u001b[39mself\u001b[39;49m\u001b[39m.\u001b[39;49mpyaudio_stream\u001b[39m.\u001b[39;49mread(size, exception_on_overflow\u001b[39m=\u001b[39;49m\u001b[39mFalse\u001b[39;49;00m)\n",
      "File \u001b[1;32mc:\\Users\\91823\\AppData\\Local\\Programs\\Python\\Python310\\lib\\site-packages\\pyaudio\\__init__.py:570\u001b[0m, in \u001b[0;36mPyAudio.Stream.read\u001b[1;34m(self, num_frames, exception_on_overflow)\u001b[0m\n\u001b[0;32m    567\u001b[0m \u001b[39mif\u001b[39;00m \u001b[39mnot\u001b[39;00m \u001b[39mself\u001b[39m\u001b[39m.\u001b[39m_is_input:\n\u001b[0;32m    568\u001b[0m     \u001b[39mraise\u001b[39;00m \u001b[39mIOError\u001b[39;00m(\u001b[39m\"\u001b[39m\u001b[39mNot input stream\u001b[39m\u001b[39m\"\u001b[39m,\n\u001b[0;32m    569\u001b[0m                   paCanNotReadFromAnOutputOnlyStream)\n\u001b[1;32m--> 570\u001b[0m \u001b[39mreturn\u001b[39;00m pa\u001b[39m.\u001b[39;49mread_stream(\u001b[39mself\u001b[39;49m\u001b[39m.\u001b[39;49m_stream, num_frames,\n\u001b[0;32m    571\u001b[0m                       exception_on_overflow)\n",
      "\u001b[1;31mKeyboardInterrupt\u001b[0m: "
     ]
    }
   ],
   "source": [
    "import speech_recognition as sr\n",
    "import webbrowser as web\n",
    "import warnings;warnings.filterwarnings('ignore')\n",
    "rec=sr.Recognizer()\n",
    "flag=False\n",
    "while True:\n",
    "    with sr.Microphone() as mic:\n",
    "        print('Speak:')\n",
    "        audio=rec.listen(mic,phrase_time_limit=3,timeout=5)\n",
    "        try:\n",
    "            text=rec.recognize_google(audio).lower()\n",
    "            print(text)\n",
    "            if flag ==True:\n",
    "                if 'search' in text:\n",
    "                    item=text.split('search')[-1].strip()\n",
    "                    flipkart_url='https://www.flipkart.com/search?q='\n",
    "                    amazon_url='https://www.amazon.in/s?k='\n",
    "                    web.open_new(flipkart_url+item)\n",
    "                    web.open_new(amazon_url+item)\n",
    "                flag=False\n",
    "            if 'hey google' in text:\n",
    "                flag=True\n",
    "            elif 'mar ja' in text:\n",
    "                break                      \n",
    "        \n",
    "            tts.say(text)\n",
    "            tts.runAndWait()\n",
    "        except Exception as err:\n",
    "            print(err) "
   ]
  },
  {
   "cell_type": "code",
   "execution_count": 15,
   "metadata": {},
   "outputs": [],
   "source": [
    "from nltk.chat.util import Chat"
   ]
  },
  {
   "cell_type": "code",
   "execution_count": 16,
   "metadata": {},
   "outputs": [],
   "source": [
    "qa_pairs = [    [ 'what is your owner name' ,                               ['Ishu'] ]  ,\n",
    "                [ '(.*)name' ,                                              [ 'Ishu kumar' ] ]  ,           \n",
    "                [ 'what is your favourate colour' ,                         ['Black'] ]  ,\n",
    "                [ 'what is your age'              ,                         [ '18' ] ]                     ,\n",
    "                [ 'what is your favourate book'    ,                        ['Gita'] ]        ,\n",
    "                [ 'what is your favourate food' ,                           [ 'Chiken' ] ]      ,                                      \n",
    "                [ 'what is your creater' ,                                  [ 'Ishu kumar' ] ]       ,       \n",
    "                [ 'what is the favourate colour of your owner' ,            ['black'] ]    ,            \n",
    "                [ '(hi|HI|Hi|hey|HEY|Hey|HELLO|Hello|hello)',               [' \\t Hello 👋 \\n  How can i help u'  ,  '👋 '] ] ,            \n",
    "                [ '(.*)(location|city|address|place|Place) ?',              ['JAIPUR ']   ]   ,\n",
    "                [ '(.*)contact(.*)' ,                                       ['call - xxxx for more information ℹ '] ]   ,\n",
    "                [  '(.*)weather(.*)' ,                                      ['it cool 😎 ']    ] ,\n",
    "                [ '(.*)',                                                   ['Sorry please enter again']  ]\n",
    "                \n",
    "            ]\n",
    "cb =Chat(qa_pairs)"
   ]
  },
  {
   "cell_type": "code",
   "execution_count": 17,
   "metadata": {},
   "outputs": [
    {
     "name": "stdout",
     "output_type": "stream",
     "text": [
      "Sorry pleas enter again\n"
     ]
    }
   ],
   "source": [
    "ques=input('enter')\n",
    "response= cb.respond(ques)\n",
    "print(response)"
   ]
  },
  {
   "cell_type": "code",
   "execution_count": 19,
   "metadata": {},
   "outputs": [],
   "source": [
    "#  ()   capture and group\n",
    "# . any character(expect new line)\n",
    "#  * zero or more occurences\n",
    "#   | or\n",
    "# []  set of characters\n",
    "# ^   starting with\n",
    "# $    ends with\n",
    "# ?     zero or one occurence\n",
    "#+      one or more occurence\n",
    "#{}     exactly number of occurence\n",
    "#\\w     only word characters\n",
    "#\\W     not word characters "
   ]
  },
  {
   "cell_type": "code",
   "execution_count": 21,
   "metadata": {},
   "outputs": [
    {
     "name": "stdout",
     "output_type": "stream",
     "text": [
      "Speak:\n",
      "\n",
      "Speak:\n",
      "\n",
      "Speak:\n",
      "hey google\n",
      "Speak:\n",
      "\n",
      "Speak:\n",
      "search iphone\n",
      "Speak:\n",
      "\n",
      "Speak:\n",
      "what is\n",
      "Speak:\n",
      "\n",
      "Speak:\n",
      "\n",
      "Speak:\n",
      "what is your name\n",
      "Speak:\n",
      "\n",
      "Speak:\n",
      "\n",
      "Speak:\n",
      "\n",
      "Speak:\n",
      "\n",
      "Speak:\n",
      "\n",
      "Speak:\n",
      "\n",
      "Speak:\n"
     ]
    },
    {
     "ename": "WaitTimeoutError",
     "evalue": "listening timed out while waiting for phrase to start",
     "output_type": "error",
     "traceback": [
      "\u001b[1;31m---------------------------------------------------------------------------\u001b[0m",
      "\u001b[1;31mWaitTimeoutError\u001b[0m                          Traceback (most recent call last)",
      "Cell \u001b[1;32mIn[21], line 21\u001b[0m\n\u001b[0;32m     19\u001b[0m \u001b[39mwith\u001b[39;00m sr\u001b[39m.\u001b[39mMicrophone() \u001b[39mas\u001b[39;00m mic:\n\u001b[0;32m     20\u001b[0m     \u001b[39mprint\u001b[39m(\u001b[39m'\u001b[39m\u001b[39mSpeak:\u001b[39m\u001b[39m'\u001b[39m)\n\u001b[1;32m---> 21\u001b[0m     audio\u001b[39m=\u001b[39mrec\u001b[39m.\u001b[39;49mlisten(mic,phrase_time_limit\u001b[39m=\u001b[39;49m\u001b[39m3\u001b[39;49m,timeout\u001b[39m=\u001b[39;49m\u001b[39m5\u001b[39;49m)\n\u001b[0;32m     22\u001b[0m     \u001b[39mtry\u001b[39;00m:\n\u001b[0;32m     23\u001b[0m         text\u001b[39m=\u001b[39mrec\u001b[39m.\u001b[39mrecognize_google(audio)\u001b[39m.\u001b[39mlower()\n",
      "File \u001b[1;32mc:\\Users\\91823\\AppData\\Local\\Programs\\Python\\Python310\\lib\\site-packages\\speech_recognition\\__init__.py:489\u001b[0m, in \u001b[0;36mRecognizer.listen\u001b[1;34m(self, source, timeout, phrase_time_limit, snowboy_configuration)\u001b[0m\n\u001b[0;32m    487\u001b[0m elapsed_time \u001b[39m+\u001b[39m\u001b[39m=\u001b[39m seconds_per_buffer\n\u001b[0;32m    488\u001b[0m \u001b[39mif\u001b[39;00m timeout \u001b[39mand\u001b[39;00m elapsed_time \u001b[39m>\u001b[39m timeout:\n\u001b[1;32m--> 489\u001b[0m     \u001b[39mraise\u001b[39;00m WaitTimeoutError(\u001b[39m\"\u001b[39m\u001b[39mlistening timed out while waiting for phrase to start\u001b[39m\u001b[39m\"\u001b[39m)\n\u001b[0;32m    491\u001b[0m buffer \u001b[39m=\u001b[39m source\u001b[39m.\u001b[39mstream\u001b[39m.\u001b[39mread(source\u001b[39m.\u001b[39mCHUNK)\n\u001b[0;32m    492\u001b[0m \u001b[39mif\u001b[39;00m \u001b[39mlen\u001b[39m(buffer) \u001b[39m==\u001b[39m \u001b[39m0\u001b[39m: \u001b[39mbreak\u001b[39;00m  \u001b[39m# reached end of the stream\u001b[39;00m\n",
      "\u001b[1;31mWaitTimeoutError\u001b[0m: listening timed out while waiting for phrase to start"
     ]
    }
   ],
   "source": [
    "import speech_recognition\n",
    "import nltk\n",
    "import pyttsx3\n",
    "tts=pyttsx3.init()\n",
    "import webbrowser as web\n",
    "import warnings;warnings.filterwarnings('ignore')\n",
    "rec=sr.Recognizer()\n",
    "from nltk.chat.util import Chat\n",
    "q1 = r'What is your name'\n",
    "a1=['My name is chatchat']\n",
    "q2=r'Kya aaj kuch aacha hoga'\n",
    "a2=['haan','mujhe kya pata','mein kyu btau']\n",
    "qa_pair=[\n",
    "    [q1,a1],\n",
    "    [q2,a2],\n",
    "]\n",
    "cb=Chat(qa_pair)\n",
    "while True:\n",
    "    with sr.Microphone() as mic:\n",
    "        print('Speak:')\n",
    "        audio=rec.listen(mic,phrase_time_limit=3,timeout=5)\n",
    "        try:\n",
    "            text=rec.recognize_google(audio).lower()\n",
    "            print(text)\n",
    "            if flag ==True:\n",
    "                if 'search' in text:\n",
    "                    item=text.split('search')[-1].strip()\n",
    "                    flipkart_url='https://www.flipkart.com/search?q='\n",
    "                    amazon_url='https://www.amazon.in/s?k='\n",
    "                    web.open_new(flipkart_url+item)\n",
    "                    web.open_new(amazon_url+item)\n",
    "                else:\n",
    "                    resp=cb.respond(text)\n",
    "                    if resp==None:\n",
    "                        tts.say('Sorry,i dont know')\n",
    "                    else:\n",
    "                        tts.say(resp)\n",
    "                    tts.runAndWait()\n",
    "                flag=False\n",
    "            if 'hey google' in text:\n",
    "                flag=True\n",
    "            elif 'mar ja' in text:\n",
    "                break                      \n",
    "        \n",
    "            tts.say(text)\n",
    "            tts.runAndWait()\n",
    "        except Exception as err:\n",
    "            print(err) \n"
   ]
  }
 ],
 "metadata": {
  "kernelspec": {
   "display_name": "Python 3",
   "language": "python",
   "name": "python3"
  },
  "language_info": {
   "codemirror_mode": {
    "name": "ipython",
    "version": 3
   },
   "file_extension": ".py",
   "mimetype": "text/x-python",
   "name": "python",
   "nbconvert_exporter": "python",
   "pygments_lexer": "ipython3",
   "version": "3.10.11"
  },
  "orig_nbformat": 4
 },
 "nbformat": 4,
 "nbformat_minor": 2
}
