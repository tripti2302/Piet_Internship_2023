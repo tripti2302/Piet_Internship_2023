{
 "cells": [
  {
   "cell_type": "code",
   "execution_count": 1,
   "metadata": {},
   "outputs": [
    {
     "data": {
      "text/plain": [
       "<__main__.Abc at 0x1043965e0>"
      ]
     },
     "execution_count": 1,
     "metadata": {},
     "output_type": "execute_result"
    }
   ],
   "source": [
    "# Object Oriented Programming\n",
    "# ---------------------------\n",
    "# class - Template\n",
    "# object - instance\n",
    "\n",
    "class Abc:\n",
    "    pass\n",
    "\n",
    "x = Abc()\n",
    "x"
   ]
  },
  {
   "cell_type": "code",
   "execution_count": 2,
   "metadata": {},
   "outputs": [],
   "source": [
    "# A class may have\n",
    "### 1. Methods/Functions\n",
    "        # User Defined Methods /\n",
    "        # Special Methods/ Dunders / Magic Methods\n",
    "        # Decorated Methods (staticmethod/abstractmethod/....)\n",
    "### 2. Attributes\n",
    "        # Instance Attributes\n",
    "        # Class Attributes\n",
    "\n",
    "# Inheritance\n",
    "    # Single Level\n",
    "    # Multi-level\n",
    "    # Hierarchical\n",
    "    # Multiple\n"
   ]
  },
  {
   "cell_type": "code",
   "execution_count": 5,
   "metadata": {},
   "outputs": [
    {
     "name": "stdout",
     "output_type": "stream",
     "text": [
      "<__main__.Abc object at 0x10a8bfe80>\n",
      "10 20\n"
     ]
    }
   ],
   "source": [
    "class Abc():\n",
    "    a = 10\n",
    "    b = 20\n",
    "    def show(self):\n",
    "        print(self.a, Abc.b)\n",
    "\n",
    "x = Abc()\n",
    "print(x)\n",
    "x.show()"
   ]
  },
  {
   "cell_type": "code",
   "execution_count": 6,
   "metadata": {},
   "outputs": [
    {
     "data": {
      "text/plain": [
       "10"
      ]
     },
     "execution_count": 6,
     "metadata": {},
     "output_type": "execute_result"
    }
   ],
   "source": [
    "x.a"
   ]
  },
  {
   "cell_type": "code",
   "execution_count": 7,
   "metadata": {},
   "outputs": [],
   "source": [
    "y = Abc()\n",
    "z = Abc()"
   ]
  },
  {
   "cell_type": "code",
   "execution_count": 8,
   "metadata": {},
   "outputs": [
    {
     "name": "stdout",
     "output_type": "stream",
     "text": [
      "10 20\n"
     ]
    }
   ],
   "source": [
    "y.show()"
   ]
  },
  {
   "cell_type": "code",
   "execution_count": 9,
   "metadata": {},
   "outputs": [
    {
     "name": "stdout",
     "output_type": "stream",
     "text": [
      "10 20\n"
     ]
    }
   ],
   "source": [
    "z.show()"
   ]
  },
  {
   "cell_type": "code",
   "execution_count": 10,
   "metadata": {},
   "outputs": [],
   "source": [
    "x.a = 45\n",
    "y.a = 55\n",
    "Abc.b = 100"
   ]
  },
  {
   "cell_type": "code",
   "execution_count": 11,
   "metadata": {},
   "outputs": [
    {
     "name": "stdout",
     "output_type": "stream",
     "text": [
      "45 100\n",
      "55 100\n",
      "10 100\n"
     ]
    }
   ],
   "source": [
    "x.show()\n",
    "y.show()\n",
    "z.show()"
   ]
  },
  {
   "cell_type": "code",
   "execution_count": 17,
   "metadata": {},
   "outputs": [
    {
     "name": "stdout",
     "output_type": "stream",
     "text": [
      "Hi\n",
      "10 20\n",
      "30 20\n",
      "15 20\n",
      "10 30\n",
      "30 30\n",
      "15 30\n",
      "10 30\n"
     ]
    }
   ],
   "source": [
    "from typing import Any\n",
    "\n",
    "\n",
    "class Abc():\n",
    "    def __init__(self, a = 10, b = 20):\n",
    "        self.a = a\n",
    "        Abc.b = b\n",
    "    \n",
    "    def __str__(self) -> str:\n",
    "        return \"Hi\"\n",
    "    \n",
    "    def __call__(self, *args, **kwds):\n",
    "        return sum(args)\n",
    "    \n",
    "    def show(self):\n",
    "        print(self.a, Abc.b)\n",
    "\n",
    "x = Abc()\n",
    "print(x)\n",
    "y = Abc(a = 30)\n",
    "z = Abc(a = 15)\n",
    "x.show();y.show();z.show()\n",
    "w = Abc(b = 30)\n",
    "x.show();y.show();z.show();w.show()\n",
    "x(5,8,2,5,7,4)"
   ]
  },
  {
   "cell_type": "code",
   "execution_count": 30,
   "metadata": {},
   "outputs": [
    {
     "name": "stdout",
     "output_type": "stream",
     "text": [
      "10 20\n"
     ]
    }
   ],
   "source": [
    "Abc().show()"
   ]
  },
  {
   "cell_type": "code",
   "execution_count": 27,
   "metadata": {},
   "outputs": [
    {
     "name": "stdout",
     "output_type": "stream",
     "text": [
      "Its Simple\n",
      "30\n"
     ]
    },
    {
     "data": {
      "text/plain": [
       "0"
      ]
     },
     "execution_count": 27,
     "metadata": {},
     "output_type": "execute_result"
    }
   ],
   "source": [
    "class Pqr(Abc):\n",
    "    def __init__(self, a=10, b=20):\n",
    "        super().__init__(a, b)\n",
    "    def simple(self):\n",
    "        print('Its Simple')\n",
    "    def show(self):\n",
    "        print(self.a)\n",
    "\n",
    "p = Pqr(a = 30,)\n",
    "p.simple()\n",
    "p.show()\n",
    "p()"
   ]
  },
  {
   "cell_type": "code",
   "execution_count": 29,
   "metadata": {},
   "outputs": [],
   "source": [
    "### PEP\n",
    "# GeometricManagement - Class\n",
    "# geometric_management - function\n",
    "# geometricManagement - variable\n",
    "# GEOMETRIC_MANAGEMENT - constant"
   ]
  },
  {
   "cell_type": "code",
   "execution_count": 5,
   "metadata": {},
   "outputs": [],
   "source": [
    "## GUI Development ##\n",
    "######################\n",
    "import tkinter as ktr\n",
    "\n",
    "app = ktr.Tk(__name__)\n",
    "app.geometry('400x400')\n",
    "app.title('My First GUI')\n",
    "\n",
    "# Label, Entry, Button -> Geometric Management/Placement\n",
    "# pack(), grid(row=0,column=0), place(x=20, y= 20)\n",
    "var1 = ktr.Variable()\n",
    "var1.set('Initial Value')\n",
    "\n",
    "# a = ktr.Label(app, text = 'Mera Pehla Text')\n",
    "a = ktr.Label(app, textvariable=var1)\n",
    "a.grid(row=0, column=1)\n",
    "\n",
    "var2 = ktr.Variable()\n",
    "ktr.Entry(app, textvariable=var2).grid(row=1,column=1)\n",
    "\n",
    "def putText():\n",
    "    var1.set(var2.get())\n",
    "ktr.Button(app, text='Put', command=putText).grid(row=2,column=1)\n",
    "\n",
    "# ktr.Label(app, text = 'Ye doosra tareeka hai').pack()\n",
    "ktr.Label(app, text = 'Ye doosra tareeka hai').grid(\n",
    "    row = 3, column = 0\n",
    ")\n",
    "\n",
    "app.mainloop()\n"
   ]
  },
  {
   "cell_type": "code",
   "execution_count": null,
   "metadata": {},
   "outputs": [],
   "source": []
  }
 ],
 "metadata": {
  "kernelspec": {
   "display_name": "Python 3",
   "language": "python",
   "name": "python3"
  },
  "language_info": {
   "codemirror_mode": {
    "name": "ipython",
    "version": 3
   },
   "file_extension": ".py",
   "mimetype": "text/x-python",
   "name": "python",
   "nbconvert_exporter": "python",
   "pygments_lexer": "ipython3",
   "version": "3.9.6"
  },
  "orig_nbformat": 4
 },
 "nbformat": 4,
 "nbformat_minor": 2
}
