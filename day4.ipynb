{
 "cells": [
  {
   "cell_type": "code",
   "execution_count": 1,
   "metadata": {},
   "outputs": [],
   "source": [
    "# User Defined Functions"
   ]
  },
  {
   "cell_type": "code",
   "execution_count": 2,
   "metadata": {},
   "outputs": [
    {
     "name": "stdout",
     "output_type": "stream",
     "text": [
      "hi\n"
     ]
    }
   ],
   "source": [
    "# statement:\n",
    "#     expr\n",
    "#     expr2\n",
    "\n",
    "def kuchbhi():\n",
    "    print('hi')\n",
    "\n",
    "kuchbhi()"
   ]
  },
  {
   "cell_type": "code",
   "execution_count": 3,
   "metadata": {},
   "outputs": [],
   "source": [
    "# Types\n",
    "# 1. No input, No output\n",
    "# 2. Input, but no output\n",
    "# 3. No Input, but Output\n",
    "# 4. Both input and output\n",
    "\n",
    "def abc1():    \n",
    "    print('Its No input no Output Func')\n",
    "\n",
    "def abc2(x):\n",
    "    print(f'Its fetching x={x} but No output')\n",
    "\n",
    "def abc3():\n",
    "    return \"Its a string returned from function as output\"\n",
    "\n",
    "def abc4(x,y):\n",
    "    return x*2, y+x+y"
   ]
  },
  {
   "cell_type": "code",
   "execution_count": 4,
   "metadata": {},
   "outputs": [
    {
     "name": "stdout",
     "output_type": "stream",
     "text": [
      "Its No input no Output Func\n",
      "None\n"
     ]
    }
   ],
   "source": [
    "a = abc1()\n",
    "print(a)"
   ]
  },
  {
   "cell_type": "code",
   "execution_count": 5,
   "metadata": {},
   "outputs": [
    {
     "name": "stdout",
     "output_type": "stream",
     "text": [
      "Its a string returned from function as output\n"
     ]
    }
   ],
   "source": [
    "a3 = abc3()\n",
    "print(a3)"
   ]
  },
  {
   "cell_type": "code",
   "execution_count": 6,
   "metadata": {},
   "outputs": [
    {
     "name": "stdout",
     "output_type": "stream",
     "text": [
      "(10, 21)\n"
     ]
    }
   ],
   "source": [
    "a4 = abc4(5,8)\n",
    "print(a4)"
   ]
  },
  {
   "cell_type": "code",
   "execution_count": 7,
   "metadata": {},
   "outputs": [
    {
     "name": "stdout",
     "output_type": "stream",
     "text": [
      "10\n",
      "21\n"
     ]
    }
   ],
   "source": [
    "a41, a42 = abc4(5,8)\n",
    "print(a41); print(a42)"
   ]
  },
  {
   "cell_type": "code",
   "execution_count": 8,
   "metadata": {},
   "outputs": [
    {
     "data": {
      "text/plain": [
       "(16, 18)"
      ]
     },
     "execution_count": 8,
     "metadata": {},
     "output_type": "execute_result"
    }
   ],
   "source": [
    "abc4(y=5, x=8)"
   ]
  },
  {
   "cell_type": "code",
   "execution_count": 9,
   "metadata": {},
   "outputs": [
    {
     "data": {
      "text/plain": [
       "(10, 25)"
      ]
     },
     "execution_count": 9,
     "metadata": {},
     "output_type": "execute_result"
    }
   ],
   "source": [
    "abc4(5, y =10)"
   ]
  },
  {
   "cell_type": "code",
   "execution_count": 10,
   "metadata": {},
   "outputs": [],
   "source": [
    "# abc4(y=5, 8)  # Not allowed"
   ]
  },
  {
   "cell_type": "code",
   "execution_count": 11,
   "metadata": {},
   "outputs": [
    {
     "ename": "TypeError",
     "evalue": "abc4() missing 1 required positional argument: 'y'",
     "output_type": "error",
     "traceback": [
      "\u001b[0;31m---------------------------------------------------------------------------\u001b[0m",
      "\u001b[0;31mTypeError\u001b[0m                                 Traceback (most recent call last)",
      "Cell \u001b[0;32mIn[11], line 1\u001b[0m\n\u001b[0;32m----> 1\u001b[0m abc4(\u001b[39m5\u001b[39;49m)\n",
      "\u001b[0;31mTypeError\u001b[0m: abc4() missing 1 required positional argument: 'y'"
     ]
    }
   ],
   "source": [
    "abc4(5)"
   ]
  },
  {
   "cell_type": "code",
   "execution_count": 12,
   "metadata": {},
   "outputs": [
    {
     "ename": "TypeError",
     "evalue": "abc4() takes 2 positional arguments but 3 were given",
     "output_type": "error",
     "traceback": [
      "\u001b[0;31m---------------------------------------------------------------------------\u001b[0m",
      "\u001b[0;31mTypeError\u001b[0m                                 Traceback (most recent call last)",
      "Cell \u001b[0;32mIn[12], line 1\u001b[0m\n\u001b[0;32m----> 1\u001b[0m abc4(\u001b[39m5\u001b[39;49m,\u001b[39m8\u001b[39;49m,\u001b[39m9\u001b[39;49m)\n",
      "\u001b[0;31mTypeError\u001b[0m: abc4() takes 2 positional arguments but 3 were given"
     ]
    }
   ],
   "source": [
    "abc4(5,8,9)"
   ]
  },
  {
   "cell_type": "code",
   "execution_count": 13,
   "metadata": {},
   "outputs": [
    {
     "ename": "TypeError",
     "evalue": "abc4() got an unexpected keyword argument 'z'",
     "output_type": "error",
     "traceback": [
      "\u001b[0;31m---------------------------------------------------------------------------\u001b[0m",
      "\u001b[0;31mTypeError\u001b[0m                                 Traceback (most recent call last)",
      "Cell \u001b[0;32mIn[13], line 1\u001b[0m\n\u001b[0;32m----> 1\u001b[0m abc4(x\u001b[39m=\u001b[39;49m\u001b[39m9\u001b[39;49m,y\u001b[39m=\u001b[39;49m\u001b[39m5\u001b[39;49m,z\u001b[39m=\u001b[39;49m\u001b[39m10\u001b[39;49m)\n",
      "\u001b[0;31mTypeError\u001b[0m: abc4() got an unexpected keyword argument 'z'"
     ]
    }
   ],
   "source": [
    "abc4(x=9,y=5,z=10)"
   ]
  },
  {
   "cell_type": "code",
   "execution_count": 15,
   "metadata": {},
   "outputs": [
    {
     "name": "stdout",
     "output_type": "stream",
     "text": [
      "(2, 1)\n",
      "(8, 4)\n",
      "(8, 14)\n"
     ]
    }
   ],
   "source": [
    "# Default Values to function args\n",
    "def abc5(x=1,y=0):\n",
    "    return x*2, y+x+y\n",
    "\n",
    "print(abc5())\n",
    "print(abc5(4))\n",
    "print(abc5(4,5))"
   ]
  },
  {
   "cell_type": "code",
   "execution_count": 20,
   "metadata": {},
   "outputs": [],
   "source": [
    "# *args, **kwargs\n",
    "def abc6(x=1, y=0, *p, **q):\n",
    "    print(x*2, y+x+y)\n",
    "    print(p)\n",
    "    print(q)\n",
    "    print('')"
   ]
  },
  {
   "cell_type": "code",
   "execution_count": 30,
   "metadata": {},
   "outputs": [
    {
     "name": "stdout",
     "output_type": "stream",
     "text": [
      "2 1\n",
      "()\n",
      "{}\n",
      "\n",
      "10 13\n",
      "()\n",
      "{}\n",
      "\n",
      "10 13\n",
      "(9, 10, 34, 456, 'hi', 23)\n",
      "{}\n",
      "\n",
      "10 13\n",
      "(9, 10, 34, 456, 'hi')\n",
      "{'m': 23, 'n': [4, 7, 8]}\n",
      "\n",
      "10 13\n",
      "(9, 10, 34, 456, 'hi')\n",
      "{'p': 23, 'q': [4, 7, 8]}\n",
      "\n",
      "10 13\n",
      "(9, 10, 34, 456, 'hi', 23)\n",
      "{'f': [45, 6], 'z': 34}\n",
      "\n"
     ]
    }
   ],
   "source": [
    "abc6()\n",
    "abc6(5,4)\n",
    "abc6(5,4,9,10,34,456,'hi',23)\n",
    "abc6(5,4,9,10,34,456,'hi',m=23, n=[4,7,8])\n",
    "abc6(5,4,9,10,34,456,'hi',p=23, q=[4,7,8])\n",
    "abc6(5,4,9,10,34,456,'hi',23, **{'f':[45,6],'z':34})"
   ]
  },
  {
   "cell_type": "code",
   "execution_count": 44,
   "metadata": {},
   "outputs": [
    {
     "name": "stdout",
     "output_type": "stream",
     "text": [
      "Marte marte raaz batake jaaunga\n"
     ]
    },
    {
     "ename": "ZeroDivisionError",
     "evalue": "division by zero",
     "output_type": "error",
     "traceback": [
      "\u001b[0;31m---------------------------------------------------------------------------\u001b[0m",
      "\u001b[0;31mZeroDivisionError\u001b[0m                         Traceback (most recent call last)",
      "Cell \u001b[0;32mIn[44], line 8\u001b[0m\n\u001b[1;32m      6\u001b[0m     a \u001b[39m=\u001b[39m \u001b[39m10\u001b[39m\n\u001b[1;32m      7\u001b[0m     b \u001b[39m=\u001b[39m \u001b[39mint\u001b[39m(\u001b[39minput\u001b[39m(\u001b[39m'\u001b[39m\u001b[39mEnter the number:\u001b[39m\u001b[39m'\u001b[39m))\n\u001b[0;32m----> 8\u001b[0m     \u001b[39mprint\u001b[39m(a\u001b[39m/\u001b[39;49mb)\n\u001b[1;32m      9\u001b[0m \u001b[39mexcept\u001b[39;00m \u001b[39mValueError\u001b[39;00m \u001b[39mas\u001b[39;00m err:\n\u001b[1;32m     10\u001b[0m     \u001b[39mprint\u001b[39m(err, b)\n",
      "\u001b[0;31mZeroDivisionError\u001b[0m: division by zero"
     ]
    }
   ],
   "source": [
    "# Errors & Exception Handling\n",
    "### try-except-else-finally\n",
    "##### Built-in Exceptions\n",
    "\n",
    "try:\n",
    "    a = 10\n",
    "    b = int(input('Enter the number:'))\n",
    "    print(a/b)\n",
    "except ValueError as err:\n",
    "    print(err, b)\n",
    "    print(a)\n",
    "# except ZeroDivisionError as err:\n",
    "#     print(err, b)\n",
    "#     print(a)\n",
    "# except KeyboardInterrupt as err:\n",
    "#     print('oh aap kaam karna hi nahi chaahte')\n",
    "# except Exception as err:\n",
    "#     print(err)\n",
    "else:\n",
    "    print('Sab badhiya')\n",
    "finally:\n",
    "    print('Marte marte raaz batake jaaunga')\n",
    "\n",
    "print('Kaam ho gaya')"
   ]
  },
  {
   "cell_type": "code",
   "execution_count": 45,
   "metadata": {},
   "outputs": [],
   "source": [
    "# Scope of Variables???\n",
    "\n",
    "## In Python a function can be\n",
    "#### assigned to a variable\n",
    "#### passed as an argument to a function\n",
    "#### defined inside another function\n",
    "#### returned from another function"
   ]
  },
  {
   "cell_type": "code",
   "execution_count": 46,
   "metadata": {},
   "outputs": [
    {
     "name": "stdout",
     "output_type": "stream",
     "text": [
      "10\n",
      "10\n"
     ]
    }
   ],
   "source": [
    "a = 10\n",
    "\n",
    "def xyz():\n",
    "    print(a)\n",
    "\n",
    "print(a)\n",
    "xyz()"
   ]
  },
  {
   "cell_type": "code",
   "execution_count": 49,
   "metadata": {},
   "outputs": [
    {
     "name": "stdout",
     "output_type": "stream",
     "text": [
      "10\n",
      "30\n",
      "30\n"
     ]
    }
   ],
   "source": [
    "a = 10\n",
    "\n",
    "def xyz():\n",
    "    global a\n",
    "    a += 20\n",
    "    print(a)\n",
    "\n",
    "print(a)\n",
    "xyz()\n",
    "print(a)"
   ]
  },
  {
   "cell_type": "code",
   "execution_count": 50,
   "metadata": {},
   "outputs": [],
   "source": [
    "def abc(x,y):\n",
    "    return x+y"
   ]
  },
  {
   "cell_type": "code",
   "execution_count": 53,
   "metadata": {},
   "outputs": [],
   "source": [
    "# k = abc(3,4)\n",
    "k = abc"
   ]
  },
  {
   "cell_type": "code",
   "execution_count": 54,
   "metadata": {},
   "outputs": [
    {
     "data": {
      "text/plain": [
       "<function __main__.abc(x, y)>"
      ]
     },
     "execution_count": 54,
     "metadata": {},
     "output_type": "execute_result"
    }
   ],
   "source": [
    "abc"
   ]
  },
  {
   "cell_type": "code",
   "execution_count": 55,
   "metadata": {},
   "outputs": [
    {
     "data": {
      "text/plain": [
       "<function __main__.abc(x, y)>"
      ]
     },
     "execution_count": 55,
     "metadata": {},
     "output_type": "execute_result"
    }
   ],
   "source": [
    "k"
   ]
  },
  {
   "cell_type": "code",
   "execution_count": 57,
   "metadata": {},
   "outputs": [],
   "source": [
    "def pot():\n",
    "    print('pot')"
   ]
  },
  {
   "cell_type": "code",
   "execution_count": 56,
   "metadata": {},
   "outputs": [],
   "source": [
    "def pqr(f):\n",
    "    f()"
   ]
  },
  {
   "cell_type": "code",
   "execution_count": 58,
   "metadata": {},
   "outputs": [
    {
     "name": "stdout",
     "output_type": "stream",
     "text": [
      "pot\n"
     ]
    }
   ],
   "source": [
    "pqr(pot)"
   ]
  },
  {
   "cell_type": "code",
   "execution_count": 59,
   "metadata": {},
   "outputs": [
    {
     "name": "stdout",
     "output_type": "stream",
     "text": [
      "nox\n"
     ]
    }
   ],
   "source": [
    "def basket():\n",
    "    def dox():\n",
    "        print('nox')\n",
    "    dox()\n",
    "\n",
    "basket()"
   ]
  },
  {
   "cell_type": "code",
   "execution_count": 60,
   "metadata": {},
   "outputs": [],
   "source": [
    "def awesome(f, m, n):\n",
    "    return f, m+n"
   ]
  },
  {
   "cell_type": "code",
   "execution_count": 63,
   "metadata": {},
   "outputs": [],
   "source": [
    "p, _ = awesome(pot,3,4)"
   ]
  },
  {
   "cell_type": "code",
   "execution_count": 64,
   "metadata": {},
   "outputs": [
    {
     "name": "stdout",
     "output_type": "stream",
     "text": [
      "pot\n"
     ]
    }
   ],
   "source": [
    "p()"
   ]
  },
  {
   "cell_type": "code",
   "execution_count": 65,
   "metadata": {},
   "outputs": [
    {
     "data": {
      "text/plain": [
       "7"
      ]
     },
     "execution_count": 65,
     "metadata": {},
     "output_type": "execute_result"
    }
   ],
   "source": [
    "_"
   ]
  },
  {
   "cell_type": "code",
   "execution_count": 76,
   "metadata": {},
   "outputs": [],
   "source": [
    "# Decorator\n",
    "def nayaWala(f):\n",
    "    def special():\n",
    "        print('Ye to special hai')\n",
    "        f()\n",
    "        print('Decorate ho gaya')\n",
    "    return special\n",
    "def ekOr(f):\n",
    "    def special():\n",
    "        print('Ye to gazab hai')\n",
    "        f()\n",
    "        print('Decorate hota hai')\n",
    "    return special"
   ]
  },
  {
   "cell_type": "code",
   "execution_count": 77,
   "metadata": {},
   "outputs": [],
   "source": [
    "@ekOr\n",
    "@nayaWala\n",
    "def simple():\n",
    "    print('Mai to bahut simple hu')\n",
    "\n",
    "# simple = decorate(simple)"
   ]
  },
  {
   "cell_type": "code",
   "execution_count": 78,
   "metadata": {},
   "outputs": [
    {
     "name": "stdout",
     "output_type": "stream",
     "text": [
      "Ye to gazab hai\n",
      "Ye to special hai\n",
      "Mai to bahut simple hu\n",
      "Decorate ho gaya\n",
      "Decorate hota hai\n"
     ]
    }
   ],
   "source": [
    "simple()"
   ]
  },
  {
   "cell_type": "code",
   "execution_count": 79,
   "metadata": {},
   "outputs": [],
   "source": [
    "## Annonymous Functions\n",
    "#########################\n",
    "# Lambda Expression\n",
    "\n",
    "# lambda ip_args: op_args"
   ]
  },
  {
   "cell_type": "code",
   "execution_count": 80,
   "metadata": {},
   "outputs": [
    {
     "name": "stdout",
     "output_type": "stream",
     "text": [
      "20\n"
     ]
    }
   ],
   "source": [
    "def normal(x,y):\n",
    "    return x * y\n",
    "\n",
    "m = normal(4,5)\n",
    "print(m)"
   ]
  },
  {
   "cell_type": "code",
   "execution_count": 83,
   "metadata": {},
   "outputs": [
    {
     "data": {
      "text/plain": [
       "20"
      ]
     },
     "execution_count": 83,
     "metadata": {},
     "output_type": "execute_result"
    }
   ],
   "source": [
    "normals = lambda x, y : x * y\n",
    "normals(4,5)"
   ]
  },
  {
   "cell_type": "code",
   "execution_count": 89,
   "metadata": {},
   "outputs": [
    {
     "name": "stdout",
     "output_type": "stream",
     "text": [
      "[12, 14, 6, 12, 16, 4]\n",
      "[3.0, 14, 6, 3.0, 4.0, 1.0]\n",
      "['6', '7', '3', '6', '8', '2']\n"
     ]
    }
   ],
   "source": [
    "def my_mapper(func, values):\n",
    "    result = []\n",
    "    for value in values:\n",
    "        result += [func(value)]\n",
    "    return result\n",
    "\n",
    "data = [6,7,3,6,8,2]\n",
    "print(my_mapper(lambda x:x*2, data))\n",
    "print(my_mapper(lambda x:x*2 if x%2 else x/2, data))\n",
    "print(my_mapper(lambda x:str(x), data))\n",
    "\n",
    "# def first(v):\n",
    "#     return v*2\n",
    "# def second(v):\n",
    "#     return v*2 if v%2 else v/2\n",
    "# def third(v):\n",
    "#     return str(v)\n",
    "# print(my_mapper(first, data))\n",
    "# print(my_mapper(second, data))\n",
    "# print(my_mapper(third, data))"
   ]
  },
  {
   "cell_type": "code",
   "execution_count": 85,
   "metadata": {},
   "outputs": [],
   "source": []
  },
  {
   "cell_type": "code",
   "execution_count": 86,
   "metadata": {},
   "outputs": [],
   "source": []
  },
  {
   "cell_type": "code",
   "execution_count": null,
   "metadata": {},
   "outputs": [],
   "source": []
  }
 ],
 "metadata": {
  "kernelspec": {
   "display_name": "Python 3",
   "language": "python",
   "name": "python3"
  },
  "language_info": {
   "codemirror_mode": {
    "name": "ipython",
    "version": 3
   },
   "file_extension": ".py",
   "mimetype": "text/x-python",
   "name": "python",
   "nbconvert_exporter": "python",
   "pygments_lexer": "ipython3",
   "version": "3.9.6"
  },
  "orig_nbformat": 4
 },
 "nbformat": 4,
 "nbformat_minor": 2
}
